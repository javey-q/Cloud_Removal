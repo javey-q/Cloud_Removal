{
 "cells": [
  {
   "cell_type": "code",
   "execution_count": 16,
   "metadata": {
    "collapsed": false
   },
   "outputs": [
    {
     "data": {
      "text/html": [
       "<div>\n",
       "<style scoped>\n",
       "    .dataframe tbody tr th:only-of-type {\n",
       "        vertical-align: middle;\n",
       "    }\n",
       "\n",
       "    .dataframe tbody tr th {\n",
       "        vertical-align: top;\n",
       "    }\n",
       "\n",
       "    .dataframe thead th {\n",
       "        text-align: right;\n",
       "    }\n",
       "</style>\n",
       "<table border=\"1\" class=\"dataframe\">\n",
       "  <thead>\n",
       "    <tr style=\"text-align: right;\">\n",
       "      <th></th>\n",
       "      <th>phase</th>\n",
       "      <th>SAR</th>\n",
       "      <th>opt_clear</th>\n",
       "      <th>opt_cloudy</th>\n",
       "      <th>img_name</th>\n",
       "      <th>ssim</th>\n",
       "    </tr>\n",
       "  </thead>\n",
       "  <tbody>\n",
       "    <tr>\n",
       "      <th>0</th>\n",
       "      <td>1</td>\n",
       "      <td>SAR</td>\n",
       "      <td>opt_clear</td>\n",
       "      <td>opt_cloudy</td>\n",
       "      <td>S2_01_10_0.png</td>\n",
       "      <td>0.0</td>\n",
       "    </tr>\n",
       "    <tr>\n",
       "      <th>1</th>\n",
       "      <td>1</td>\n",
       "      <td>SAR</td>\n",
       "      <td>opt_clear</td>\n",
       "      <td>opt_cloudy</td>\n",
       "      <td>S2_01_10_1.png</td>\n",
       "      <td>0.0</td>\n",
       "    </tr>\n",
       "    <tr>\n",
       "      <th>2</th>\n",
       "      <td>1</td>\n",
       "      <td>SAR</td>\n",
       "      <td>opt_clear</td>\n",
       "      <td>opt_cloudy</td>\n",
       "      <td>S2_01_10_2.png</td>\n",
       "      <td>0.0</td>\n",
       "    </tr>\n",
       "    <tr>\n",
       "      <th>3</th>\n",
       "      <td>1</td>\n",
       "      <td>SAR</td>\n",
       "      <td>opt_clear</td>\n",
       "      <td>opt_cloudy</td>\n",
       "      <td>S2_01_10_3.png</td>\n",
       "      <td>0.0</td>\n",
       "    </tr>\n",
       "    <tr>\n",
       "      <th>4</th>\n",
       "      <td>1</td>\n",
       "      <td>SAR</td>\n",
       "      <td>opt_clear</td>\n",
       "      <td>opt_cloudy</td>\n",
       "      <td>S2_01_100_0.png</td>\n",
       "      <td>0.8</td>\n",
       "    </tr>\n",
       "    <tr>\n",
       "      <th>...</th>\n",
       "      <td>...</td>\n",
       "      <td>...</td>\n",
       "      <td>...</td>\n",
       "      <td>...</td>\n",
       "      <td>...</td>\n",
       "      <td>...</td>\n",
       "    </tr>\n",
       "    <tr>\n",
       "      <th>21679</th>\n",
       "      <td>2</td>\n",
       "      <td>SAR</td>\n",
       "      <td>opt_clear</td>\n",
       "      <td>opt_cloudy</td>\n",
       "      <td>S2_14_988_3.png</td>\n",
       "      <td>0.0</td>\n",
       "    </tr>\n",
       "    <tr>\n",
       "      <th>21680</th>\n",
       "      <td>1</td>\n",
       "      <td>SAR</td>\n",
       "      <td>opt_clear</td>\n",
       "      <td>opt_cloudy</td>\n",
       "      <td>S2_14_996_0.png</td>\n",
       "      <td>0.0</td>\n",
       "    </tr>\n",
       "    <tr>\n",
       "      <th>21681</th>\n",
       "      <td>1</td>\n",
       "      <td>SAR</td>\n",
       "      <td>opt_clear</td>\n",
       "      <td>opt_cloudy</td>\n",
       "      <td>S2_14_996_1.png</td>\n",
       "      <td>0.0</td>\n",
       "    </tr>\n",
       "    <tr>\n",
       "      <th>21682</th>\n",
       "      <td>1</td>\n",
       "      <td>SAR</td>\n",
       "      <td>opt_clear</td>\n",
       "      <td>opt_cloudy</td>\n",
       "      <td>S2_14_996_2.png</td>\n",
       "      <td>0.0</td>\n",
       "    </tr>\n",
       "    <tr>\n",
       "      <th>21683</th>\n",
       "      <td>1</td>\n",
       "      <td>SAR</td>\n",
       "      <td>opt_clear</td>\n",
       "      <td>opt_cloudy</td>\n",
       "      <td>S2_14_996_3.png</td>\n",
       "      <td>0.0</td>\n",
       "    </tr>\n",
       "  </tbody>\n",
       "</table>\n",
       "<p>21684 rows × 6 columns</p>\n",
       "</div>"
      ],
      "text/plain": [
       "       phase  SAR  opt_clear  opt_cloudy         img_name  ssim\n",
       "0          1  SAR  opt_clear  opt_cloudy   S2_01_10_0.png   0.0\n",
       "1          1  SAR  opt_clear  opt_cloudy   S2_01_10_1.png   0.0\n",
       "2          1  SAR  opt_clear  opt_cloudy   S2_01_10_2.png   0.0\n",
       "3          1  SAR  opt_clear  opt_cloudy   S2_01_10_3.png   0.0\n",
       "4          1  SAR  opt_clear  opt_cloudy  S2_01_100_0.png   0.8\n",
       "...      ...  ...        ...         ...              ...   ...\n",
       "21679      2  SAR  opt_clear  opt_cloudy  S2_14_988_3.png   0.0\n",
       "21680      1  SAR  opt_clear  opt_cloudy  S2_14_996_0.png   0.0\n",
       "21681      1  SAR  opt_clear  opt_cloudy  S2_14_996_1.png   0.0\n",
       "21682      1  SAR  opt_clear  opt_cloudy  S2_14_996_2.png   0.0\n",
       "21683      1  SAR  opt_clear  opt_cloudy  S2_14_996_3.png   0.0\n",
       "\n",
       "[21684 rows x 6 columns]"
      ]
     },
     "execution_count": 16,
     "metadata": {},
     "output_type": "execute_result"
    }
   ],
   "source": [
    "import pandas as pd\n",
    "\n",
    "meta_info = 'D:/Dataset/Rsipac/train_256/train_val_list.csv'\n",
    "meta_csv = pd.read_csv(meta_info, names=['phase','SAR', 'opt_clear', 'opt_cloudy','img_name'])\n",
    "meta_csv['ssim'] = 0\n",
    "meta_csv.loc[meta_csv.img_name=='S2_01_100_0.png','ssim'] = 0.8\n",
    "meta_csv.loc[meta_csv.img_name=='S2_01_100_1.png','ssim'] = 0.8\n",
    "meta_csv.loc[meta_csv.img_name=='S2_01_100_2.png','ssim'] = 0.7\n",
    "meta_csv.loc[meta_csv.img_name=='S2_01_100_3.png','ssim'] = 0.9\n",
    "meta_csv"
   ]
  },
  {
   "cell_type": "code",
   "execution_count": 22,
   "metadata": {
    "collapsed": false
   },
   "outputs": [],
   "source": [
    "meta_csv['rank'] = meta_csv.groupby('phase')['ssim'].rank(method='min', ascending=False)\n",
    "meta_csv.to_csv('test.csv',header=0, index=0)"
   ]
  },
  {
   "cell_type": "code",
   "execution_count": 3,
   "metadata": {
    "collapsed": false
   },
   "outputs": [
    {
     "data": {
      "text/plain": [
       "dict_keys(['epoch', 'model', 'optimizer', 'lr_scheduler', 'metrics'])"
      ]
     },
     "execution_count": 3,
     "metadata": {},
     "output_type": "execute_result"
    }
   ],
   "source": [
    "import torch\n",
    "\n",
    "ckpt = torch.load(r\"C:\\Users\\25726\\Desktop\\checkpoint_best.pth\")\n",
    "ckpt.keys()"
   ]
  },
  {
   "cell_type": "code",
   "execution_count": 8,
   "metadata": {},
   "outputs": [],
   "source": [
    "torch.save(ckpt['model'], r\"C:\\Users\\25726\\Desktop\\checkpoint_2.pth\")"
   ]
  },
  {
   "cell_type": "code",
   "execution_count": 6,
   "metadata": {},
   "outputs": [
    {
     "data": {
      "text/plain": [
       "{'T_max': 150,\n",
       " 'eta_min': 1e-07,\n",
       " 'base_lrs': [0.0001],\n",
       " 'last_epoch': 77,\n",
       " '_step_count': 78,\n",
       " 'verbose': False,\n",
       " '_get_lr_called_within_step': False,\n",
       " '_last_lr': [4.795831109622649e-05]}"
      ]
     },
     "execution_count": 6,
     "metadata": {},
     "output_type": "execute_result"
    }
   ],
   "source": [
    "ckpt['lr_scheduler']"
   ]
  },
  {
   "cell_type": "code",
   "execution_count": 1,
   "metadata": {
    "collapsed": false
   },
   "outputs": [
    {
     "ename": "FileNotFoundError",
     "evalue": "[Errno 2] No such file or directory: './config/basic_config.yml'",
     "output_type": "error",
     "traceback": [
      "\u001b[1;31m---------------------------------------------------------------------------\u001b[0m",
      "\u001b[1;31mFileNotFoundError\u001b[0m                         Traceback (most recent call last)",
      "Input \u001b[1;32mIn [1]\u001b[0m, in \u001b[0;36m<cell line: 3>\u001b[1;34m()\u001b[0m\n\u001b[0;32m      1\u001b[0m \u001b[38;5;28;01mimport\u001b[39;00m \u001b[38;5;21;01myaml\u001b[39;00m\n\u001b[1;32m----> 3\u001b[0m \u001b[38;5;28;01mwith\u001b[39;00m \u001b[38;5;28;43mopen\u001b[39;49m\u001b[43m(\u001b[49m\u001b[38;5;124;43m'\u001b[39;49m\u001b[38;5;124;43m./config/basic_config.yml\u001b[39;49m\u001b[38;5;124;43m'\u001b[39;49m\u001b[43m,\u001b[49m\u001b[43m \u001b[49m\u001b[43mmode\u001b[49m\u001b[38;5;241;43m=\u001b[39;49m\u001b[38;5;124;43m'\u001b[39;49m\u001b[38;5;124;43mr\u001b[39;49m\u001b[38;5;124;43m'\u001b[39;49m\u001b[43m,\u001b[49m\u001b[43m \u001b[49m\u001b[43mencoding\u001b[49m\u001b[38;5;241;43m=\u001b[39;49m\u001b[38;5;124;43m'\u001b[39;49m\u001b[38;5;124;43mutf-8\u001b[39;49m\u001b[38;5;124;43m'\u001b[39;49m\u001b[43m)\u001b[49m \u001b[38;5;28;01mas\u001b[39;00m file:\n\u001b[0;32m      4\u001b[0m     cfg \u001b[38;5;241m=\u001b[39m yaml\u001b[38;5;241m.\u001b[39mload(file, Loader\u001b[38;5;241m=\u001b[39myaml\u001b[38;5;241m.\u001b[39mFullLoader)\n",
      "\u001b[1;31mFileNotFoundError\u001b[0m: [Errno 2] No such file or directory: './config/basic_config.yml'"
     ]
    }
   ],
   "source": [
    "import yaml\n",
    "\n",
    "with open('./config/basic_config.yml', mode='r', encoding='utf-8') as file:\n",
    "    cfg = yaml.load(file, Loader=yaml.FullLoader)"
   ]
  },
  {
   "cell_type": "code",
   "execution_count": 8,
   "metadata": {
    "collapsed": false
   },
   "outputs": [
    {
     "name": "stdout",
     "output_type": "stream",
     "text": [
      "<class 'list'> 17500\n"
     ]
    }
   ],
   "source": [
    "ds_train_cfg = cfg['datasets']['train']\n",
    "img_list = []\n",
    "with open(ds_train_cfg['meta_info'], mode='r', encoding='utf-8') as buffer:\n",
    "    for line in buffer:\n",
    "        img_list.append(line.strip())\n",
    "\n",
    "print(type(img_list), len(img_list))"
   ]
  },
  {
   "cell_type": "code",
   "execution_count": 9,
   "metadata": {
    "collapsed": false
   },
   "outputs": [
    {
     "name": "stdout",
     "output_type": "stream",
     "text": [
      "{'name': 'DogsAndCats', 'phase': 'train', 'root': '/data/sgd-2022/datasets/DogsAndCats', 'meta_info': '/data/sgd-2022/datasets/DogsAndCats/train_list.txt', 'io_backend': {'type': 'disk'}, 'random_crop': True, 'base_size': 150, 'crop_size': 128, 'batch_size': 64, 'use_shuffle': True, 'use_drop_last': True}\n",
      "{'name': 'DogsAndCats', 'phase': 'val', 'root': '/data/sgd-2022/datasets/DogsAndCats', 'meta_info': '/data/sgd-2022/datasets/DogsAndCats/valid_list.txt', 'io_backend': {'type': 'disk'}, 'fig_size': 128, 'batch_size': 64}\n"
     ]
    }
   ],
   "source": [
    "for dataset in cfg['datasets']:\n",
    "    print(cfg['datasets'][dataset])"
   ]
  },
  {
   "cell_type": "code",
   "execution_count": 10,
   "metadata": {
    "collapsed": false
   },
   "outputs": [
    {
     "data": {
      "text/plain": [
       "{'fig_size': 128}"
      ]
     },
     "execution_count": 10,
     "metadata": {},
     "output_type": "execute_result"
    }
   ],
   "source": [
    "cfg['network']"
   ]
  },
  {
   "cell_type": "code",
   "execution_count": 1,
   "metadata": {
    "collapsed": false
   },
   "outputs": [],
   "source": [
    "a = None"
   ]
  },
  {
   "cell_type": "code",
   "execution_count": 2,
   "metadata": {
    "collapsed": false
   },
   "outputs": [
    {
     "ename": "AttributeError",
     "evalue": "'NoneType' object has no attribute 'watch'",
     "output_type": "error",
     "traceback": [
      "\u001b[0;31m---------------------------------------------------------------------------\u001b[0m",
      "\u001b[0;31mAttributeError\u001b[0m                            Traceback (most recent call last)",
      "Cell \u001b[0;32mIn[2], line 1\u001b[0m\n\u001b[0;32m----> 1\u001b[0m \u001b[43ma\u001b[49m\u001b[38;5;241;43m.\u001b[39;49m\u001b[43mwatch\u001b[49m\n",
      "\u001b[0;31mAttributeError\u001b[0m: 'NoneType' object has no attribute 'watch'"
     ]
    }
   ],
   "source": [
    "a.watch"
   ]
  },
  {
   "cell_type": "code",
   "execution_count": null,
   "metadata": {
    "collapsed": false
   },
   "outputs": [],
   "source": []
  }
 ],
 "metadata": {
  "kernelspec": {
   "display_name": "Python 3",
   "language": "python",
   "name": "python3"
  },
  "language_info": {
   "codemirror_mode": {
    "name": "ipython",
    "version": 3
   },
   "file_extension": ".py",
   "mimetype": "text/x-python",
   "name": "python",
   "nbconvert_exporter": "python",
   "pygments_lexer": "ipython3",
   "version": "3.7.15"
  }
 },
 "nbformat": 4,
 "nbformat_minor": 0
}
