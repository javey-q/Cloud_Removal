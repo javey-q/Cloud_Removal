{
 "cells": [
  {
   "cell_type": "code",
   "execution_count": 7,
   "metadata": {
    "collapsed": true
   },
   "outputs": [],
   "source": [
    "import yaml\n",
    "\n",
    "with open('./config/basic_config.yml', mode='r', encoding='utf-8') as file:\n",
    "    cfg = yaml.load(file, Loader=yaml.FullLoader)"
   ]
  },
  {
   "cell_type": "code",
   "execution_count": 8,
   "outputs": [
    {
     "name": "stdout",
     "output_type": "stream",
     "text": [
      "<class 'list'> 17500\n"
     ]
    }
   ],
   "source": [
    "ds_train_cfg = cfg['datasets']['train']\n",
    "img_list = []\n",
    "with open(ds_train_cfg['meta_info'], mode='r', encoding='utf-8') as buffer:\n",
    "    for line in buffer:\n",
    "        img_list.append(line.strip())\n",
    "\n",
    "print(type(img_list), len(img_list))"
   ],
   "metadata": {
    "collapsed": false
   }
  },
  {
   "cell_type": "code",
   "execution_count": 9,
   "outputs": [
    {
     "name": "stdout",
     "output_type": "stream",
     "text": [
      "{'name': 'DogsAndCats', 'phase': 'train', 'root': '/data/sgd-2022/datasets/DogsAndCats', 'meta_info': '/data/sgd-2022/datasets/DogsAndCats/train_list.txt', 'io_backend': {'type': 'disk'}, 'random_crop': True, 'base_size': 150, 'crop_size': 128, 'batch_size': 64, 'use_shuffle': True, 'use_drop_last': True}\n",
      "{'name': 'DogsAndCats', 'phase': 'val', 'root': '/data/sgd-2022/datasets/DogsAndCats', 'meta_info': '/data/sgd-2022/datasets/DogsAndCats/valid_list.txt', 'io_backend': {'type': 'disk'}, 'fig_size': 128, 'batch_size': 64}\n"
     ]
    }
   ],
   "source": [
    "for dataset in cfg['datasets']:\n",
    "    print(cfg['datasets'][dataset])"
   ],
   "metadata": {
    "collapsed": false
   }
  },
  {
   "cell_type": "code",
   "execution_count": 10,
   "outputs": [
    {
     "data": {
      "text/plain": "{'fig_size': 128}"
     },
     "execution_count": 10,
     "metadata": {},
     "output_type": "execute_result"
    }
   ],
   "source": [
    "cfg['network']"
   ],
   "metadata": {
    "collapsed": false
   }
  },
  {
   "cell_type": "code",
   "execution_count": 1,
   "outputs": [],
   "source": [
    "a = None"
   ],
   "metadata": {
    "collapsed": false
   }
  },
  {
   "cell_type": "code",
   "execution_count": 2,
   "outputs": [
    {
     "ename": "AttributeError",
     "evalue": "'NoneType' object has no attribute 'watch'",
     "output_type": "error",
     "traceback": [
      "\u001B[0;31m---------------------------------------------------------------------------\u001B[0m",
      "\u001B[0;31mAttributeError\u001B[0m                            Traceback (most recent call last)",
      "Cell \u001B[0;32mIn[2], line 1\u001B[0m\n\u001B[0;32m----> 1\u001B[0m \u001B[43ma\u001B[49m\u001B[38;5;241;43m.\u001B[39;49m\u001B[43mwatch\u001B[49m\n",
      "\u001B[0;31mAttributeError\u001B[0m: 'NoneType' object has no attribute 'watch'"
     ]
    }
   ],
   "source": [
    "a.watch"
   ],
   "metadata": {
    "collapsed": false
   }
  },
  {
   "cell_type": "code",
   "execution_count": null,
   "outputs": [],
   "source": [],
   "metadata": {
    "collapsed": false
   }
  }
 ],
 "metadata": {
  "kernelspec": {
   "display_name": "Python 3",
   "language": "python",
   "name": "python3"
  },
  "language_info": {
   "codemirror_mode": {
    "name": "ipython",
    "version": 2
   },
   "file_extension": ".py",
   "mimetype": "text/x-python",
   "name": "python",
   "nbconvert_exporter": "python",
   "pygments_lexer": "ipython2",
   "version": "2.7.6"
  }
 },
 "nbformat": 4,
 "nbformat_minor": 0
}
